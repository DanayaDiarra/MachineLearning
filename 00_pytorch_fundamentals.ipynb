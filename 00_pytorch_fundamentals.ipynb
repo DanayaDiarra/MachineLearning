{
  "nbformat": 4,
  "nbformat_minor": 0,
  "metadata": {
    "colab": {
      "provenance": [],
      "toc_visible": true,
      "authorship_tag": "ABX9TyMv3mzjJwKNmaKykgKQVEoa",
      "include_colab_link": true
    },
    "kernelspec": {
      "name": "python3",
      "display_name": "Python 3"
    },
    "language_info": {
      "name": "python"
    }
  },
  "cells": [
    {
      "cell_type": "markdown",
      "metadata": {
        "id": "view-in-github",
        "colab_type": "text"
      },
      "source": [
        "<a href=\"https://colab.research.google.com/github/DanayaDiarra/MachineLearning/blob/main/00_pytorch_fundamentals.ipynb\" target=\"_parent\"><img src=\"https://colab.research.google.com/assets/colab-badge.svg\" alt=\"Open In Colab\"/></a>"
      ]
    },
    {
      "cell_type": "markdown",
      "source": [
        "## 00.Pytorch Fundamentals ##"
      ],
      "metadata": {
        "id": "YHLXeGzMh997"
      }
    },
    {
      "cell_type": "code",
      "source": [
        "import torch\n",
        "import pandas as pd\n",
        "import numpy as np\n",
        "import matplotlib.pyplot as plt\n",
        "print(torch.__version__)"
      ],
      "metadata": {
        "colab": {
          "base_uri": "https://localhost:8080/"
        },
        "id": "5wUVaDhAiKJJ",
        "outputId": "c17dd13c-b9a6-4819-8763-94462fad64f4"
      },
      "execution_count": 1,
      "outputs": [
        {
          "output_type": "stream",
          "name": "stdout",
          "text": [
            "2.8.0+cu126\n"
          ]
        }
      ]
    },
    {
      "cell_type": "markdown",
      "source": [
        "## #Introduction to Tensors\n",
        "\n",
        "### Creating Tensors (Using torch.tensor())"
      ],
      "metadata": {
        "id": "shg4bjpJk7B6"
      }
    },
    {
      "cell_type": "code",
      "source": [
        "# Scaler\n",
        "\n",
        "scaler = torch.tensor(7)\n",
        "scaler"
      ],
      "metadata": {
        "colab": {
          "base_uri": "https://localhost:8080/"
        },
        "id": "oNgWsXMGlNkN",
        "outputId": "2458c851-7772-4cd6-e2ad-26034807b46f"
      },
      "execution_count": 2,
      "outputs": [
        {
          "output_type": "execute_result",
          "data": {
            "text/plain": [
              "tensor(7)"
            ]
          },
          "metadata": {},
          "execution_count": 2
        }
      ]
    },
    {
      "cell_type": "code",
      "source": [
        "scaler.ndim # A scaler has no dimension"
      ],
      "metadata": {
        "colab": {
          "base_uri": "https://localhost:8080/"
        },
        "id": "Hx0UeZSolnXQ",
        "outputId": "ce514cee-7a81-4ecc-8617-3d447d807b06"
      },
      "execution_count": 3,
      "outputs": [
        {
          "output_type": "execute_result",
          "data": {
            "text/plain": [
              "0"
            ]
          },
          "metadata": {},
          "execution_count": 3
        }
      ]
    },
    {
      "cell_type": "code",
      "source": [
        "# Get tensor back as python int\n",
        "scaler.item()"
      ],
      "metadata": {
        "colab": {
          "base_uri": "https://localhost:8080/"
        },
        "id": "6KqYkl1GmKOE",
        "outputId": "5b7665c1-d885-4656-ff1a-df3f50a2137e"
      },
      "execution_count": 4,
      "outputs": [
        {
          "output_type": "execute_result",
          "data": {
            "text/plain": [
              "7"
            ]
          },
          "metadata": {},
          "execution_count": 4
        }
      ]
    },
    {
      "cell_type": "code",
      "source": [
        "# Vector\n",
        "vector  = torch.tensor([7,7])\n",
        "vector"
      ],
      "metadata": {
        "colab": {
          "base_uri": "https://localhost:8080/"
        },
        "id": "aoIawQcamcBd",
        "outputId": "36601f7c-6ee7-4bb1-ec5a-b93cb6468c3d"
      },
      "execution_count": 5,
      "outputs": [
        {
          "output_type": "execute_result",
          "data": {
            "text/plain": [
              "tensor([7, 7])"
            ]
          },
          "metadata": {},
          "execution_count": 5
        }
      ]
    },
    {
      "cell_type": "code",
      "source": [
        "vector.shape"
      ],
      "metadata": {
        "colab": {
          "base_uri": "https://localhost:8080/"
        },
        "id": "4HjFb-2Vm2Fx",
        "outputId": "691b72f5-1968-4c88-d1e5-6e8816bb796f"
      },
      "execution_count": 6,
      "outputs": [
        {
          "output_type": "execute_result",
          "data": {
            "text/plain": [
              "torch.Size([2])"
            ]
          },
          "metadata": {},
          "execution_count": 6
        }
      ]
    },
    {
      "cell_type": "code",
      "source": [
        "# MATRIX\n",
        "MATRIX = torch.tensor([[7,8],[9,10]])\n",
        "MATRIX"
      ],
      "metadata": {
        "colab": {
          "base_uri": "https://localhost:8080/"
        },
        "id": "nnhbWnxym7X_",
        "outputId": "9e00f384-e319-47cc-8d05-e4f70d36ea6a"
      },
      "execution_count": 7,
      "outputs": [
        {
          "output_type": "execute_result",
          "data": {
            "text/plain": [
              "tensor([[ 7,  8],\n",
              "        [ 9, 10]])"
            ]
          },
          "metadata": {},
          "execution_count": 7
        }
      ]
    },
    {
      "cell_type": "code",
      "source": [
        "MATRIX.ndim"
      ],
      "metadata": {
        "colab": {
          "base_uri": "https://localhost:8080/"
        },
        "id": "60kOI9YJnYMn",
        "outputId": "2e8eb1ec-2982-4a50-907a-dee3710d32f1"
      },
      "execution_count": 8,
      "outputs": [
        {
          "output_type": "execute_result",
          "data": {
            "text/plain": [
              "2"
            ]
          },
          "metadata": {},
          "execution_count": 8
        }
      ]
    },
    {
      "cell_type": "code",
      "source": [
        "MATRIX[1]"
      ],
      "metadata": {
        "colab": {
          "base_uri": "https://localhost:8080/"
        },
        "id": "zHKM7WeLJGXC",
        "outputId": "82c452b2-07c5-4f0f-8784-18a415167216"
      },
      "execution_count": 9,
      "outputs": [
        {
          "output_type": "execute_result",
          "data": {
            "text/plain": [
              "tensor([ 9, 10])"
            ]
          },
          "metadata": {},
          "execution_count": 9
        }
      ]
    },
    {
      "cell_type": "code",
      "source": [
        "MATRIX.shape"
      ],
      "metadata": {
        "colab": {
          "base_uri": "https://localhost:8080/"
        },
        "id": "Eo7YQ5HRndet",
        "outputId": "2fcdfd86-bb54-4063-f29c-13095fff4055"
      },
      "execution_count": 10,
      "outputs": [
        {
          "output_type": "execute_result",
          "data": {
            "text/plain": [
              "torch.Size([2, 2])"
            ]
          },
          "metadata": {},
          "execution_count": 10
        }
      ]
    },
    {
      "cell_type": "code",
      "source": [
        "# TENSOR\n",
        "TENSOR = torch.tensor([[[1,2,3],\n",
        "                       [3,6,9],\n",
        "                       [2,4,5]]])\n",
        "TENSOR"
      ],
      "metadata": {
        "colab": {
          "base_uri": "https://localhost:8080/"
        },
        "id": "RU7NLG8Pnhr_",
        "outputId": "13f483b0-013b-4e96-9f67-d5fe0252e6a1"
      },
      "execution_count": 11,
      "outputs": [
        {
          "output_type": "execute_result",
          "data": {
            "text/plain": [
              "tensor([[[1, 2, 3],\n",
              "         [3, 6, 9],\n",
              "         [2, 4, 5]]])"
            ]
          },
          "metadata": {},
          "execution_count": 11
        }
      ]
    },
    {
      "cell_type": "code",
      "source": [
        "TENSOR.ndim"
      ],
      "metadata": {
        "colab": {
          "base_uri": "https://localhost:8080/"
        },
        "id": "7GB0Ro_PoQuO",
        "outputId": "6af547d4-5076-4c27-8d4f-787b8b354fb8"
      },
      "execution_count": 12,
      "outputs": [
        {
          "output_type": "execute_result",
          "data": {
            "text/plain": [
              "3"
            ]
          },
          "metadata": {},
          "execution_count": 12
        }
      ]
    },
    {
      "cell_type": "code",
      "source": [
        "TENSOR.shape"
      ],
      "metadata": {
        "colab": {
          "base_uri": "https://localhost:8080/"
        },
        "id": "R6UH-RQIoW7v",
        "outputId": "59e7f8fd-5062-4290-e4f3-0c6cfadd74c7"
      },
      "execution_count": 13,
      "outputs": [
        {
          "output_type": "execute_result",
          "data": {
            "text/plain": [
              "torch.Size([1, 3, 3])"
            ]
          },
          "metadata": {},
          "execution_count": 13
        }
      ]
    },
    {
      "cell_type": "markdown",
      "source": [
        "## Random Tensors\n",
        "\n",
        "Why Random Tensors?\n",
        "\n",
        "Random Tensors are important because the way neural networks learn is that they start with tensors full of random numbers and then adjust those to better represent the data.\n",
        "\n",
        "\n",
        "*\" start with random numbers -> look at data -> update random numbers -> look at data -> Update random numbers \"*"
      ],
      "metadata": {
        "id": "Rt70RVaaKZ9T"
      }
    },
    {
      "cell_type": "markdown",
      "source": [
        "### Torch random tensors.  https://docs.pytorch.org/docs/2.8/generated/torch.rand.html"
      ],
      "metadata": {
        "id": "KzQkgKhHPunH"
      }
    },
    {
      "cell_type": "code",
      "source": [
        "# Create a random tensor of size(3,4)\n",
        "random_tensor = torch.rand(3,4)\n",
        "random_tensor"
      ],
      "metadata": {
        "colab": {
          "base_uri": "https://localhost:8080/"
        },
        "id": "DWByD1_-K-VR",
        "outputId": "0c229172-757c-4620-a374-3d4ca2689480"
      },
      "execution_count": 14,
      "outputs": [
        {
          "output_type": "execute_result",
          "data": {
            "text/plain": [
              "tensor([[0.8145, 0.8097, 0.3343, 0.2299],\n",
              "        [0.3788, 0.6783, 0.2334, 0.2824],\n",
              "        [0.1400, 0.8792, 0.4779, 0.4691]])"
            ]
          },
          "metadata": {},
          "execution_count": 14
        }
      ]
    },
    {
      "cell_type": "code",
      "source": [
        "random_tensor.ndim"
      ],
      "metadata": {
        "colab": {
          "base_uri": "https://localhost:8080/"
        },
        "id": "xiMvprDRRk31",
        "outputId": "4ed773a7-a13e-4870-f60e-300fdca4253d"
      },
      "execution_count": 15,
      "outputs": [
        {
          "output_type": "execute_result",
          "data": {
            "text/plain": [
              "2"
            ]
          },
          "metadata": {},
          "execution_count": 15
        }
      ]
    },
    {
      "cell_type": "code",
      "source": [
        "# Create a random tensor with a similar size to an image tensor\n",
        "random_image_size_tensor = torch.rand(size=(3,224,224)) # height, width, colour channel\n",
        "random_image_size_tensor.shape, random_image_size_tensor.ndim"
      ],
      "metadata": {
        "colab": {
          "base_uri": "https://localhost:8080/"
        },
        "id": "-DkAP6glSUQ5",
        "outputId": "a84e9701-d6f4-4860-8d5a-4df2bfe61381"
      },
      "execution_count": 16,
      "outputs": [
        {
          "output_type": "execute_result",
          "data": {
            "text/plain": [
              "(torch.Size([3, 224, 224]), 3)"
            ]
          },
          "metadata": {},
          "execution_count": 16
        }
      ]
    },
    {
      "cell_type": "markdown",
      "source": [
        "## #Creating Tensors with Zeros and Ones"
      ],
      "metadata": {
        "id": "gl7HlyOoXGK1"
      }
    },
    {
      "cell_type": "code",
      "source": [
        "# Create a Tensor of all zeros\n",
        "zeros = torch.zeros(size=(3,4))\n",
        "zeros"
      ],
      "metadata": {
        "colab": {
          "base_uri": "https://localhost:8080/"
        },
        "id": "MhS0HCqHYI9W",
        "outputId": "76b9004e-4ac8-4cc4-be95-3d977d0bb587"
      },
      "execution_count": 17,
      "outputs": [
        {
          "output_type": "execute_result",
          "data": {
            "text/plain": [
              "tensor([[0., 0., 0., 0.],\n",
              "        [0., 0., 0., 0.],\n",
              "        [0., 0., 0., 0.]])"
            ]
          },
          "metadata": {},
          "execution_count": 17
        }
      ]
    },
    {
      "cell_type": "code",
      "source": [
        "# Create a tensor of all Ones\n",
        "ones = torch.ones(size=(3,4))\n",
        "ones"
      ],
      "metadata": {
        "colab": {
          "base_uri": "https://localhost:8080/"
        },
        "id": "mx3RZKWXYj43",
        "outputId": "183fea38-14e5-4fff-f81b-0ed60b80287f"
      },
      "execution_count": 18,
      "outputs": [
        {
          "output_type": "execute_result",
          "data": {
            "text/plain": [
              "tensor([[1., 1., 1., 1.],\n",
              "        [1., 1., 1., 1.],\n",
              "        [1., 1., 1., 1.]])"
            ]
          },
          "metadata": {},
          "execution_count": 18
        }
      ]
    },
    {
      "cell_type": "code",
      "source": [
        "ones.dtype"
      ],
      "metadata": {
        "colab": {
          "base_uri": "https://localhost:8080/"
        },
        "id": "UIo7dLDYYz1Q",
        "outputId": "053d1bfc-a636-45b1-9678-2fe7847af689"
      },
      "execution_count": 19,
      "outputs": [
        {
          "output_type": "execute_result",
          "data": {
            "text/plain": [
              "torch.float32"
            ]
          },
          "metadata": {},
          "execution_count": 19
        }
      ]
    },
    {
      "cell_type": "markdown",
      "source": [
        "## #Creating Tensors in a Range"
      ],
      "metadata": {
        "id": "RrDShSbjY6uP"
      }
    },
    {
      "cell_type": "code",
      "source": [
        "# Use torch.range()\n",
        "one_to_ten = torch.arange(start= 10, end= 100, step= 10)\n",
        "one_to_ten"
      ],
      "metadata": {
        "colab": {
          "base_uri": "https://localhost:8080/"
        },
        "id": "U0x__CMdZLIq",
        "outputId": "3aacdd13-93e6-483e-bcfe-883aa15720f0"
      },
      "execution_count": 20,
      "outputs": [
        {
          "output_type": "execute_result",
          "data": {
            "text/plain": [
              "tensor([10, 20, 30, 40, 50, 60, 70, 80, 90])"
            ]
          },
          "metadata": {},
          "execution_count": 20
        }
      ]
    },
    {
      "cell_type": "code",
      "source": [
        "# Creating tensors like\n",
        "ten_zeros = torch.zeros_like(input = one_to_ten)\n",
        "ten_zeros"
      ],
      "metadata": {
        "colab": {
          "base_uri": "https://localhost:8080/"
        },
        "id": "qBuMmRI9ZvnM",
        "outputId": "1e0e9e01-c5c9-43c2-c5b3-6a4d3fb51357"
      },
      "execution_count": 21,
      "outputs": [
        {
          "output_type": "execute_result",
          "data": {
            "text/plain": [
              "tensor([0, 0, 0, 0, 0, 0, 0, 0, 0])"
            ]
          },
          "metadata": {},
          "execution_count": 21
        }
      ]
    },
    {
      "cell_type": "markdown",
      "source": [
        "###Dealing with Tensor Data types"
      ],
      "metadata": {
        "id": "jHEDUu5eaZA3"
      }
    },
    {
      "cell_type": "code",
      "source": [
        "# Float 32\n",
        "float_32_tensor = torch.tensor([3.0, 6.0, 9.0],\n",
        "                               dtype= None, # What datatype isi the tensor(float32 or float16)\n",
        "                               device= None, # What device is the tensor on\n",
        "                               requires_grad= False) #Wether or not to track gradients with this tensors operation\n",
        "float_32_tensor"
      ],
      "metadata": {
        "colab": {
          "base_uri": "https://localhost:8080/"
        },
        "id": "2AU3ZzXqa0Em",
        "outputId": "5665885d-d80c-43d2-ffb5-767ed275eeeb"
      },
      "execution_count": 22,
      "outputs": [
        {
          "output_type": "execute_result",
          "data": {
            "text/plain": [
              "tensor([3., 6., 9.])"
            ]
          },
          "metadata": {},
          "execution_count": 22
        }
      ]
    },
    {
      "cell_type": "code",
      "source": [
        "float_32_tensor.dtype"
      ],
      "metadata": {
        "colab": {
          "base_uri": "https://localhost:8080/"
        },
        "id": "KiNHFkg-bp_s",
        "outputId": "3be0b7d5-0a8f-4006-ea38-0bb3e25d5e3a"
      },
      "execution_count": 23,
      "outputs": [
        {
          "output_type": "execute_result",
          "data": {
            "text/plain": [
              "torch.float32"
            ]
          },
          "metadata": {},
          "execution_count": 23
        }
      ]
    },
    {
      "cell_type": "code",
      "source": [
        "float_16_tensor =  float_32_tensor.type(torch.float16)\n",
        "float_16_tensor\n"
      ],
      "metadata": {
        "colab": {
          "base_uri": "https://localhost:8080/"
        },
        "id": "XgubnTL8b0h4",
        "outputId": "714e7e17-5aa0-44fc-b5a1-aa42400ce3cc"
      },
      "execution_count": 24,
      "outputs": [
        {
          "output_type": "execute_result",
          "data": {
            "text/plain": [
              "tensor([3., 6., 9.], dtype=torch.float16)"
            ]
          },
          "metadata": {},
          "execution_count": 24
        }
      ]
    },
    {
      "cell_type": "code",
      "source": [
        "float_16_tensor * float_32_tensor"
      ],
      "metadata": {
        "colab": {
          "base_uri": "https://localhost:8080/"
        },
        "id": "J6eUdmKAerKS",
        "outputId": "54cf901a-62f6-4b0a-e345-032694741485"
      },
      "execution_count": 25,
      "outputs": [
        {
          "output_type": "execute_result",
          "data": {
            "text/plain": [
              "tensor([ 9., 36., 81.])"
            ]
          },
          "metadata": {},
          "execution_count": 25
        }
      ]
    },
    {
      "cell_type": "markdown",
      "source": [
        "## #Getting attributes(information) from tensors"
      ],
      "metadata": {
        "id": "VFZysUHOeMHl"
      }
    },
    {
      "cell_type": "code",
      "source": [
        "# Create a tensor\n",
        "some_tensor = torch.rand(3,4)\n",
        "some_tensor"
      ],
      "metadata": {
        "colab": {
          "base_uri": "https://localhost:8080/"
        },
        "id": "ozqwqxLDeh-p",
        "outputId": "ff80841a-8360-49f9-fec3-8e0e09d59621"
      },
      "execution_count": 26,
      "outputs": [
        {
          "output_type": "execute_result",
          "data": {
            "text/plain": [
              "tensor([[0.3138, 0.6199, 0.3253, 0.0752],\n",
              "        [0.8909, 0.3089, 0.8703, 0.7732],\n",
              "        [0.3089, 0.1709, 0.5610, 0.6472]])"
            ]
          },
          "metadata": {},
          "execution_count": 26
        }
      ]
    },
    {
      "cell_type": "code",
      "source": [
        "# Find Out details about some tensor\n",
        "print(some_tensor)\n",
        "print(f'datatype of tensor:{some_tensor.dtype}')\n",
        "print(f'shape of tensor: {some_tensor.shape}')\n",
        "print(f'Device of tensor is: {some_tensor.device}')"
      ],
      "metadata": {
        "colab": {
          "base_uri": "https://localhost:8080/"
        },
        "id": "F4zA3l8Ff_2D",
        "outputId": "4b71b77f-513c-4e5c-a80c-5c6cfc6768f7"
      },
      "execution_count": 27,
      "outputs": [
        {
          "output_type": "stream",
          "name": "stdout",
          "text": [
            "tensor([[0.3138, 0.6199, 0.3253, 0.0752],\n",
            "        [0.8909, 0.3089, 0.8703, 0.7732],\n",
            "        [0.3089, 0.1709, 0.5610, 0.6472]])\n",
            "datatype of tensor:torch.float32\n",
            "shape of tensor: torch.Size([3, 4])\n",
            "Device of tensor is: cpu\n"
          ]
        }
      ]
    },
    {
      "cell_type": "markdown",
      "source": [
        "## #Manipulating Tensors (tensor operations)\n",
        "\n",
        "Tensor Operations include:\n",
        " * Addition\n",
        " * Substration\n",
        " * Multiplication (element-wise)\n",
        " * Division\n",
        " * Matrix multiplication"
      ],
      "metadata": {
        "id": "0ac_ReW9gTHy"
      }
    },
    {
      "cell_type": "code",
      "source": [
        "# Create a tensor and add a number\n",
        "\n",
        "tensor =  torch.tensor([1,2,3])\n",
        "tensor + 10"
      ],
      "metadata": {
        "colab": {
          "base_uri": "https://localhost:8080/"
        },
        "id": "WJJIdwGwhvLC",
        "outputId": "ecb3e109-797c-4f0b-a602-13b5ca1c2fcf"
      },
      "execution_count": 28,
      "outputs": [
        {
          "output_type": "execute_result",
          "data": {
            "text/plain": [
              "tensor([11, 12, 13])"
            ]
          },
          "metadata": {},
          "execution_count": 28
        }
      ]
    },
    {
      "cell_type": "code",
      "source": [
        "torch.add(tensor, 10)"
      ],
      "metadata": {
        "colab": {
          "base_uri": "https://localhost:8080/"
        },
        "id": "t8S6dNQlXlNr",
        "outputId": "f8ab2757-0446-4bfe-ed1d-707edc929bce"
      },
      "execution_count": 29,
      "outputs": [
        {
          "output_type": "execute_result",
          "data": {
            "text/plain": [
              "tensor([11, 12, 13])"
            ]
          },
          "metadata": {},
          "execution_count": 29
        }
      ]
    },
    {
      "cell_type": "code",
      "source": [
        "# Multiply tensor\n",
        "\n",
        "tensor * 10"
      ],
      "metadata": {
        "colab": {
          "base_uri": "https://localhost:8080/"
        },
        "id": "jvP5rhrNWfkh",
        "outputId": "77b7e437-7f20-442e-b1d6-9fabbb2b0dc7"
      },
      "execution_count": 30,
      "outputs": [
        {
          "output_type": "execute_result",
          "data": {
            "text/plain": [
              "tensor([10, 20, 30])"
            ]
          },
          "metadata": {},
          "execution_count": 30
        }
      ]
    },
    {
      "cell_type": "code",
      "source": [
        "# Substract Tensor\n",
        "\n",
        "tensor - 10"
      ],
      "metadata": {
        "colab": {
          "base_uri": "https://localhost:8080/"
        },
        "id": "7FVbyvvfXOwR",
        "outputId": "d049e8bb-4f4c-4f82-9c1d-407e2bf0db5f"
      },
      "execution_count": 31,
      "outputs": [
        {
          "output_type": "execute_result",
          "data": {
            "text/plain": [
              "tensor([-9, -8, -7])"
            ]
          },
          "metadata": {},
          "execution_count": 31
        }
      ]
    },
    {
      "cell_type": "markdown",
      "source": [
        "### #Matrix Multiplication\n",
        "Two main ways of performing multiplication in Neural Networks and Deep Learning:\n",
        "\n",
        "\n",
        "\n",
        "1.   Element-wise multiplication\n",
        "2.   Matrix multiplication (dot product)\n",
        "\n",
        "\n",
        "**Two(2) main rules multiplying tensors must satisfy**\n",
        "\n",
        "1. The **Inner dimensions** must match\n",
        "- *(2, 4) @ (2, 4)* won't work\n",
        "- *(2, 4) @ (4, 2)* will work\n",
        "- *(4, 2) @ (2, 4)* will work\n",
        "\n",
        "2. The resulting Matrix has the shape of the **Outer dimensions**\n"
      ],
      "metadata": {
        "id": "SgthdPRgYF_P"
      }
    },
    {
      "cell_type": "code",
      "source": [
        "# Element-wise multiplication\n",
        "print(tensor, '*', tensor)\n",
        "print(f'Equals:{tensor * tensor}')"
      ],
      "metadata": {
        "colab": {
          "base_uri": "https://localhost:8080/"
        },
        "id": "MUEBbn_5ZAwr",
        "outputId": "47a1d441-cd85-429b-d53e-23dd00179fac"
      },
      "execution_count": 32,
      "outputs": [
        {
          "output_type": "stream",
          "name": "stdout",
          "text": [
            "tensor([1, 2, 3]) * tensor([1, 2, 3])\n",
            "Equals:tensor([1, 4, 9])\n"
          ]
        }
      ]
    },
    {
      "cell_type": "code",
      "source": [
        "# Matrix multiplication\n",
        "torch.matmul(tensor, tensor)"
      ],
      "metadata": {
        "colab": {
          "base_uri": "https://localhost:8080/"
        },
        "id": "RVcRm4d6bH35",
        "outputId": "4da80b0c-e620-4b47-9dde-aa72250cf8f9"
      },
      "execution_count": 33,
      "outputs": [
        {
          "output_type": "execute_result",
          "data": {
            "text/plain": [
              "tensor(14)"
            ]
          },
          "metadata": {},
          "execution_count": 33
        }
      ]
    },
    {
      "cell_type": "code",
      "source": [
        "# Matrix Multiplication manually\n",
        "1*1 + 2*2 + 3*3"
      ],
      "metadata": {
        "colab": {
          "base_uri": "https://localhost:8080/"
        },
        "id": "FjssJPTwbuGb",
        "outputId": "131edadb-69f9-40d3-abe6-e9ff6e154f1a"
      },
      "execution_count": 34,
      "outputs": [
        {
          "output_type": "execute_result",
          "data": {
            "text/plain": [
              "14"
            ]
          },
          "metadata": {},
          "execution_count": 34
        }
      ]
    },
    {
      "cell_type": "markdown",
      "source": [
        "### #Dealing  with Tensor shape **errors**"
      ],
      "metadata": {
        "id": "OrzL5S7Ileh3"
      }
    },
    {
      "cell_type": "code",
      "source": [
        "# Shapes for matrix multiplication\n",
        "tensor_A = torch.tensor([\n",
        "    [1,2],\n",
        "    [3,4],\n",
        "    [5,6]\n",
        "])\n",
        "\n",
        "tensor_B =  torch.tensor([\n",
        "    [7, 10],\n",
        "    [8, 11],\n",
        "    [9, 12]\n",
        "])\n",
        "\n",
        "torch.matmul(tensor_A, tensor_B) # or torch.mm"
      ],
      "metadata": {
        "colab": {
          "base_uri": "https://localhost:8080/",
          "height": 180
        },
        "id": "0ieVQFv5it5z",
        "outputId": "5ee7656d-142c-4577-af7a-c392b15f581e"
      },
      "execution_count": 35,
      "outputs": [
        {
          "output_type": "error",
          "ename": "RuntimeError",
          "evalue": "mat1 and mat2 shapes cannot be multiplied (3x2 and 3x2)",
          "traceback": [
            "\u001b[0;31m---------------------------------------------------------------------------\u001b[0m",
            "\u001b[0;31mRuntimeError\u001b[0m                              Traceback (most recent call last)",
            "\u001b[0;32m/tmp/ipython-input-773728197.py\u001b[0m in \u001b[0;36m<cell line: 0>\u001b[0;34m()\u001b[0m\n\u001b[1;32m     12\u001b[0m ])\n\u001b[1;32m     13\u001b[0m \u001b[0;34m\u001b[0m\u001b[0m\n\u001b[0;32m---> 14\u001b[0;31m \u001b[0mtorch\u001b[0m\u001b[0;34m.\u001b[0m\u001b[0mmatmul\u001b[0m\u001b[0;34m(\u001b[0m\u001b[0mtensor_A\u001b[0m\u001b[0;34m,\u001b[0m \u001b[0mtensor_B\u001b[0m\u001b[0;34m)\u001b[0m \u001b[0;31m# or torch.mm\u001b[0m\u001b[0;34m\u001b[0m\u001b[0;34m\u001b[0m\u001b[0m\n\u001b[0m",
            "\u001b[0;31mRuntimeError\u001b[0m: mat1 and mat2 shapes cannot be multiplied (3x2 and 3x2)"
          ]
        }
      ]
    },
    {
      "cell_type": "markdown",
      "source": [
        "#### Fixing the above issue using a **transpose** to manipulate the shape of one of the tensors.\n",
        "\n",
        "a **transpose** switches the axes or dimensions of the given tensor"
      ],
      "metadata": {
        "id": "ciKXpW3poETh"
      }
    },
    {
      "cell_type": "code",
      "source": [
        "tensor_B"
      ],
      "metadata": {
        "id": "o5cW9-Nvo32F",
        "colab": {
          "base_uri": "https://localhost:8080/"
        },
        "outputId": "79848a9e-61ab-40b4-9878-01934167903a"
      },
      "execution_count": 36,
      "outputs": [
        {
          "output_type": "execute_result",
          "data": {
            "text/plain": [
              "tensor([[ 7, 10],\n",
              "        [ 8, 11],\n",
              "        [ 9, 12]])"
            ]
          },
          "metadata": {},
          "execution_count": 36
        }
      ]
    },
    {
      "cell_type": "code",
      "source": [
        "tensor_B.T, tensor_B.T.shape"
      ],
      "metadata": {
        "id": "PolRsNrEpUun",
        "colab": {
          "base_uri": "https://localhost:8080/"
        },
        "outputId": "461a99d5-1e75-464a-c9a9-89768f4035f9"
      },
      "execution_count": 37,
      "outputs": [
        {
          "output_type": "execute_result",
          "data": {
            "text/plain": [
              "(tensor([[ 7,  8,  9],\n",
              "         [10, 11, 12]]),\n",
              " torch.Size([2, 3]))"
            ]
          },
          "metadata": {},
          "execution_count": 37
        }
      ]
    },
    {
      "cell_type": "code",
      "source": [
        "# The matrix multiplication works well when tensor_B is transposed\n",
        "\n",
        "print(f'Original shape : Tensor_A = {tensor_A.shape}, Tensor_B = {tensor_B.shape}')\n",
        "print(f'New shapes : Tensor_A = {tensor_A.shape}, Tensor_B = {tensor_B.T.shape}')\n",
        "print(f'Multiplying :{tensor_A.shape} @ {tensor_B.T.shape} <- Inner dimension must match')\n",
        "print('\\n Output:')\n",
        "output = torch.matmul(tensor_A, tensor_B.T)\n",
        "print(output)\n",
        "print(f'Output shape: {output.shape}')"
      ],
      "metadata": {
        "id": "u1PNXcokpXOW",
        "colab": {
          "base_uri": "https://localhost:8080/"
        },
        "outputId": "05d6e8ac-32c6-4d36-f628-c2f1fd31ed03"
      },
      "execution_count": 38,
      "outputs": [
        {
          "output_type": "stream",
          "name": "stdout",
          "text": [
            "Original shape : Tensor_A = torch.Size([3, 2]), Tensor_B = torch.Size([3, 2])\n",
            "New shapes : Tensor_A = torch.Size([3, 2]), Tensor_B = torch.Size([2, 3])\n",
            "Multiplying :torch.Size([3, 2]) @ torch.Size([2, 3]) <- Inner dimension must match\n",
            "\n",
            " Output:\n",
            "tensor([[ 27,  30,  33],\n",
            "        [ 61,  68,  75],\n",
            "        [ 95, 106, 117]])\n",
            "Output shape: torch.Size([3, 3])\n"
          ]
        }
      ]
    },
    {
      "cell_type": "markdown",
      "source": [
        "### Finding the Min, Max, Sum etc (Tensor aggregation)"
      ],
      "metadata": {
        "id": "_47L3vlPs5PE"
      }
    },
    {
      "cell_type": "code",
      "source": [
        "# Create a tensor\n",
        "x = torch.arange(0, 110, 10)\n",
        "x, x.dtype"
      ],
      "metadata": {
        "id": "6msjwGetGYaT",
        "colab": {
          "base_uri": "https://localhost:8080/"
        },
        "outputId": "524231e1-21fc-4655-9927-fdf93816d1c2"
      },
      "execution_count": 39,
      "outputs": [
        {
          "output_type": "execute_result",
          "data": {
            "text/plain": [
              "(tensor([  0,  10,  20,  30,  40,  50,  60,  70,  80,  90, 100]), torch.int64)"
            ]
          },
          "metadata": {},
          "execution_count": 39
        }
      ]
    },
    {
      "cell_type": "code",
      "source": [
        "# Find the min()\n",
        "torch.min(x), x.min()"
      ],
      "metadata": {
        "id": "UOnGVes7GwRM",
        "colab": {
          "base_uri": "https://localhost:8080/"
        },
        "outputId": "9b8e62c9-519f-4799-d73d-7a508a43862a"
      },
      "execution_count": 40,
      "outputs": [
        {
          "output_type": "execute_result",
          "data": {
            "text/plain": [
              "(tensor(0), tensor(0))"
            ]
          },
          "metadata": {},
          "execution_count": 40
        }
      ]
    },
    {
      "cell_type": "code",
      "source": [
        "# Find the Max\n",
        "torch.max(x), x.max()"
      ],
      "metadata": {
        "id": "32I_uyztG_DI",
        "colab": {
          "base_uri": "https://localhost:8080/"
        },
        "outputId": "c8d877d6-e850-49a3-d214-9968568298a5"
      },
      "execution_count": 41,
      "outputs": [
        {
          "output_type": "execute_result",
          "data": {
            "text/plain": [
              "(tensor(100), tensor(100))"
            ]
          },
          "metadata": {},
          "execution_count": 41
        }
      ]
    },
    {
      "cell_type": "code",
      "source": [
        "# Find the Mean. NOTE: the 'torch.mean()' function requires `tensor of float32` dtype to work\n",
        "torch.mean(x.type(torch.float32)), x.type(torch.float32).mean()\n"
      ],
      "metadata": {
        "id": "JjpGPXC5HRnD",
        "colab": {
          "base_uri": "https://localhost:8080/"
        },
        "outputId": "4db3b3f9-d94c-4edf-f1c0-777343d07580"
      },
      "execution_count": 42,
      "outputs": [
        {
          "output_type": "execute_result",
          "data": {
            "text/plain": [
              "(tensor(50.), tensor(50.))"
            ]
          },
          "metadata": {},
          "execution_count": 42
        }
      ]
    },
    {
      "cell_type": "code",
      "source": [
        "# Find the Sum\n",
        "torch.sum(x), x.sum()"
      ],
      "metadata": {
        "id": "XCJ3rdRSIPlc",
        "colab": {
          "base_uri": "https://localhost:8080/"
        },
        "outputId": "51fa85d1-a6e2-4534-d568-8dc768feda90"
      },
      "execution_count": 43,
      "outputs": [
        {
          "output_type": "execute_result",
          "data": {
            "text/plain": [
              "(tensor(550), tensor(550))"
            ]
          },
          "metadata": {},
          "execution_count": 43
        }
      ]
    },
    {
      "cell_type": "markdown",
      "source": [
        "### Finding the Positional min and max"
      ],
      "metadata": {
        "id": "A28AjMu7J_KA"
      }
    },
    {
      "cell_type": "code",
      "source": [
        "x.shape"
      ],
      "metadata": {
        "id": "rzR-OwxxL3aY",
        "colab": {
          "base_uri": "https://localhost:8080/"
        },
        "outputId": "04effb2b-6ac3-4ea1-d919-4f38d59bfd16"
      },
      "execution_count": 44,
      "outputs": [
        {
          "output_type": "execute_result",
          "data": {
            "text/plain": [
              "torch.Size([11])"
            ]
          },
          "metadata": {},
          "execution_count": 44
        }
      ]
    },
    {
      "cell_type": "code",
      "source": [
        "# Find the position in tensor that has the minimum value with 'argmin()'\n",
        "#->  Returtns the index position of the target tensor where the minimun value occurs\n",
        "x.argmin()"
      ],
      "metadata": {
        "id": "DC7yV-c9Jjsc",
        "colab": {
          "base_uri": "https://localhost:8080/"
        },
        "outputId": "5af18d4b-0767-4368-c165-afa82205ff72"
      },
      "execution_count": 45,
      "outputs": [
        {
          "output_type": "execute_result",
          "data": {
            "text/plain": [
              "tensor(0)"
            ]
          },
          "metadata": {},
          "execution_count": 45
        }
      ]
    },
    {
      "cell_type": "code",
      "source": [
        "x[0]"
      ],
      "metadata": {
        "id": "dZTu-oLBLX9y",
        "colab": {
          "base_uri": "https://localhost:8080/"
        },
        "outputId": "5f4d1ec2-e956-46e4-9ef6-c31d10caabdc"
      },
      "execution_count": 46,
      "outputs": [
        {
          "output_type": "execute_result",
          "data": {
            "text/plain": [
              "tensor(0)"
            ]
          },
          "metadata": {},
          "execution_count": 46
        }
      ]
    },
    {
      "cell_type": "code",
      "source": [
        "# Find the position in tensor that has the maximum value with 'argmax()'\n",
        "x.argmax(), x[10]"
      ],
      "metadata": {
        "id": "cVcRUiUmLcJd",
        "colab": {
          "base_uri": "https://localhost:8080/"
        },
        "outputId": "6556619c-ec0a-4e22-e064-7be6d8b0a686"
      },
      "execution_count": 47,
      "outputs": [
        {
          "output_type": "execute_result",
          "data": {
            "text/plain": [
              "(tensor(10), tensor(100))"
            ]
          },
          "metadata": {},
          "execution_count": 47
        }
      ]
    },
    {
      "cell_type": "markdown",
      "source": [
        "### #Reshaping, Viewing, Stacking, Squeezing and unsquezing `tensors`\n",
        "\n",
        "- **Reshaping** : reshape an input tensor to a defined shape\n",
        "- **View**: Return a view of an input tensor of a cretain shape but keep the same memory as the original tensor\n",
        "- **Stacking** : Combine multiple tensors on top of each other `\"vstack\"` or side by side `\"hstack\"`\n",
        "- **Squeeze** : Remove all `1` dimensions from a tensor\n",
        "- **Unsqueeze** : Add a `1` dimension to a target tensor\n",
        "- **Permute** : Return a view of the input with dimension permuted(swapped) in a certaiin way\n"
      ],
      "metadata": {
        "id": "p2uehrk-McAX"
      }
    },
    {
      "cell_type": "code",
      "source": [
        "# Create a Tensor\n",
        "import torch\n",
        "x = torch.arange(1.,10.)\n",
        "x , x.shape"
      ],
      "metadata": {
        "id": "pQS5u6utLz6p",
        "colab": {
          "base_uri": "https://localhost:8080/"
        },
        "outputId": "b1769100-269e-4ccb-a22d-0d32869b02a9"
      },
      "execution_count": 48,
      "outputs": [
        {
          "output_type": "execute_result",
          "data": {
            "text/plain": [
              "(tensor([1., 2., 3., 4., 5., 6., 7., 8., 9.]), torch.Size([9]))"
            ]
          },
          "metadata": {},
          "execution_count": 48
        }
      ]
    },
    {
      "cell_type": "code",
      "source": [
        "# Add an Extra dimension\n",
        "x_reshaped = x.reshape(1,9)\n",
        "x_reshaped, x_reshaped.shape"
      ],
      "metadata": {
        "colab": {
          "base_uri": "https://localhost:8080/"
        },
        "id": "UVPfKBglsLPz",
        "outputId": "fd863aa1-02b7-4c10-bb11-c53874f38e57"
      },
      "execution_count": 49,
      "outputs": [
        {
          "output_type": "execute_result",
          "data": {
            "text/plain": [
              "(tensor([[1., 2., 3., 4., 5., 6., 7., 8., 9.]]), torch.Size([1, 9]))"
            ]
          },
          "metadata": {},
          "execution_count": 49
        }
      ]
    },
    {
      "cell_type": "code",
      "source": [
        "z = x.view(1, 9)\n",
        "z, z.shape"
      ],
      "metadata": {
        "colab": {
          "base_uri": "https://localhost:8080/"
        },
        "id": "oNDj7DDHtK83",
        "outputId": "ae761be5-03ff-42e6-f626-a6d8b3849d5b"
      },
      "execution_count": 50,
      "outputs": [
        {
          "output_type": "execute_result",
          "data": {
            "text/plain": [
              "(tensor([[1., 2., 3., 4., 5., 6., 7., 8., 9.]]), torch.Size([1, 9]))"
            ]
          },
          "metadata": {},
          "execution_count": 50
        }
      ]
    },
    {
      "cell_type": "code",
      "source": [
        "# Changing `z` changes x (because a view of tensor shares the memory as the original)\n",
        "z[:,0] = 1\n",
        "z, x"
      ],
      "metadata": {
        "colab": {
          "base_uri": "https://localhost:8080/"
        },
        "id": "XsSor3UKtrQR",
        "outputId": "7cd76d34-ee8e-4914-9ab3-20e130927925"
      },
      "execution_count": 51,
      "outputs": [
        {
          "output_type": "execute_result",
          "data": {
            "text/plain": [
              "(tensor([[1., 2., 3., 4., 5., 6., 7., 8., 9.]]),\n",
              " tensor([1., 2., 3., 4., 5., 6., 7., 8., 9.]))"
            ]
          },
          "metadata": {},
          "execution_count": 51
        }
      ]
    },
    {
      "cell_type": "code",
      "source": [
        "# Stack tensorsbon top of each other\n",
        "x_stacked = torch.stack([x, x, x, x], dim=0)\n",
        "x_stacked"
      ],
      "metadata": {
        "colab": {
          "base_uri": "https://localhost:8080/"
        },
        "id": "e-BpVt9PueIy",
        "outputId": "45724012-4146-4121-d35f-05ef6b30cd47"
      },
      "execution_count": 52,
      "outputs": [
        {
          "output_type": "execute_result",
          "data": {
            "text/plain": [
              "tensor([[1., 2., 3., 4., 5., 6., 7., 8., 9.],\n",
              "        [1., 2., 3., 4., 5., 6., 7., 8., 9.],\n",
              "        [1., 2., 3., 4., 5., 6., 7., 8., 9.],\n",
              "        [1., 2., 3., 4., 5., 6., 7., 8., 9.]])"
            ]
          },
          "metadata": {},
          "execution_count": 52
        }
      ]
    },
    {
      "cell_type": "code",
      "source": [
        "# Squeeze: remove all single dimensions from a target tensor\n",
        "x_reshaped, x_reshaped.shape"
      ],
      "metadata": {
        "colab": {
          "base_uri": "https://localhost:8080/"
        },
        "id": "5diC9mYDvExr",
        "outputId": "aad7187d-cf08-44d0-ddf0-e755c170183f"
      },
      "execution_count": 53,
      "outputs": [
        {
          "output_type": "execute_result",
          "data": {
            "text/plain": [
              "(tensor([[1., 2., 3., 4., 5., 6., 7., 8., 9.]]), torch.Size([1, 9]))"
            ]
          },
          "metadata": {},
          "execution_count": 53
        }
      ]
    },
    {
      "cell_type": "code",
      "source": [
        "x_squeezed = x_reshaped.squeeze()\n",
        "x_squeezed"
      ],
      "metadata": {
        "colab": {
          "base_uri": "https://localhost:8080/"
        },
        "id": "cHkqOR5mwSPE",
        "outputId": "edc42ca2-726f-42b2-ce56-a6eb3e886fda"
      },
      "execution_count": 54,
      "outputs": [
        {
          "output_type": "execute_result",
          "data": {
            "text/plain": [
              "tensor([1., 2., 3., 4., 5., 6., 7., 8., 9.])"
            ]
          },
          "metadata": {},
          "execution_count": 54
        }
      ]
    },
    {
      "cell_type": "code",
      "source": [
        "x_squeezed.shape # 1 dimension removed"
      ],
      "metadata": {
        "colab": {
          "base_uri": "https://localhost:8080/"
        },
        "id": "u-QjreUcwg09",
        "outputId": "bfd44742-0540-4036-9566-b8e8fed74846"
      },
      "execution_count": 55,
      "outputs": [
        {
          "output_type": "execute_result",
          "data": {
            "text/plain": [
              "torch.Size([9])"
            ]
          },
          "metadata": {},
          "execution_count": 55
        }
      ]
    },
    {
      "cell_type": "code",
      "source": [
        "# torch.unsqueeze(): adds a single dimension to a target tensor at a specific dim()\n",
        "print(f'previous target : {x_squeezed}')\n",
        "print(f'previous shape : {x_squeezed.shape}')\n",
        "\n",
        "print('\\n------------------------------------\\n')\n",
        "\n",
        "x_unsqueezed = x_squeezed.unsqueeze(dim=0)\n",
        "# x_unsqueezed.shape\n",
        "print(f'unsqueezed target : {x_unsqueezed}')\n",
        "print(f'Current shape : {x_unsqueezed.shape}')"
      ],
      "metadata": {
        "colab": {
          "base_uri": "https://localhost:8080/"
        },
        "id": "0dA6tww4wus0",
        "outputId": "43202f2f-23e8-4f4d-efd5-f6983b465eb2"
      },
      "execution_count": 56,
      "outputs": [
        {
          "output_type": "stream",
          "name": "stdout",
          "text": [
            "previous target : tensor([1., 2., 3., 4., 5., 6., 7., 8., 9.])\n",
            "previous shape : torch.Size([9])\n",
            "\n",
            "------------------------------------\n",
            "\n",
            "unsqueezed target : tensor([[1., 2., 3., 4., 5., 6., 7., 8., 9.]])\n",
            "Current shape : torch.Size([1, 9])\n"
          ]
        }
      ]
    },
    {
      "cell_type": "code",
      "source": [
        "# torch.permute: Rearrange the dimensions of a target tensor in a specified order\n",
        "x_original = torch.rand(size=(224, 224, 3)) # (height, width, colour_channels(RGB))\n",
        "\n",
        "# Permute the Original tensor to arrange the axis or (dim) order\n",
        "\n",
        "x_permuted = x_original.permute(2, 0, 1) # shifts axis 0->1, 1->2, 2->0\n",
        "print(f'Original shape : {x_original.shape}')\n",
        "print(f'New shape :      {x_permuted.shape}') # (Colour channels, height, width)"
      ],
      "metadata": {
        "colab": {
          "base_uri": "https://localhost:8080/"
        },
        "id": "IUF9sfkC59HG",
        "outputId": "231ebf8d-2519-4a6e-eac7-5e44bbd51f41"
      },
      "execution_count": 57,
      "outputs": [
        {
          "output_type": "stream",
          "name": "stdout",
          "text": [
            "Original shape : torch.Size([224, 224, 3])\n",
            "New shape :      torch.Size([3, 224, 224])\n"
          ]
        }
      ]
    },
    {
      "cell_type": "code",
      "source": [
        "x_original"
      ],
      "metadata": {
        "colab": {
          "base_uri": "https://localhost:8080/"
        },
        "id": "IhtVM-RfDs9R",
        "outputId": "0697e946-5a07-4934-8d45-9bf2a66e6bf6"
      },
      "execution_count": 58,
      "outputs": [
        {
          "output_type": "execute_result",
          "data": {
            "text/plain": [
              "tensor([[[0.8754, 0.5005, 0.6515],\n",
              "         [0.5471, 0.0817, 0.9762],\n",
              "         [0.0356, 0.9684, 0.0490],\n",
              "         ...,\n",
              "         [0.7359, 0.3704, 0.5785],\n",
              "         [0.8754, 0.7452, 0.0375],\n",
              "         [0.4238, 0.1918, 0.4501]],\n",
              "\n",
              "        [[0.4432, 0.9386, 0.6780],\n",
              "         [0.1198, 0.2285, 0.1582],\n",
              "         [0.1277, 0.1265, 0.7454],\n",
              "         ...,\n",
              "         [0.0764, 0.5678, 0.9323],\n",
              "         [0.7433, 0.0101, 0.3957],\n",
              "         [0.3492, 0.5137, 0.0449]],\n",
              "\n",
              "        [[0.0994, 0.3824, 0.6602],\n",
              "         [0.5332, 0.9711, 0.4276],\n",
              "         [0.0409, 0.5087, 0.5058],\n",
              "         ...,\n",
              "         [0.3039, 0.6589, 0.8257],\n",
              "         [0.7619, 0.1400, 0.1551],\n",
              "         [0.9361, 0.5786, 0.4978]],\n",
              "\n",
              "        ...,\n",
              "\n",
              "        [[0.6918, 0.8423, 0.4021],\n",
              "         [0.4251, 0.5546, 0.2886],\n",
              "         [0.4368, 0.0826, 0.4042],\n",
              "         ...,\n",
              "         [0.0567, 0.0835, 0.0458],\n",
              "         [0.3040, 0.4999, 0.6798],\n",
              "         [0.9978, 0.8559, 0.1870]],\n",
              "\n",
              "        [[0.1376, 0.8204, 0.5365],\n",
              "         [0.2404, 0.0249, 0.3503],\n",
              "         [0.1316, 0.3029, 0.2839],\n",
              "         ...,\n",
              "         [0.7069, 0.1000, 0.3376],\n",
              "         [0.1598, 0.2633, 0.3437],\n",
              "         [0.5298, 0.2420, 0.2255]],\n",
              "\n",
              "        [[0.2471, 0.8181, 0.7016],\n",
              "         [0.7517, 0.0161, 0.7913],\n",
              "         [0.5246, 0.6163, 0.1223],\n",
              "         ...,\n",
              "         [0.8548, 0.9364, 0.4144],\n",
              "         [0.7294, 0.7357, 0.8183],\n",
              "         [0.4298, 0.7723, 0.3766]]])"
            ]
          },
          "metadata": {},
          "execution_count": 58
        }
      ]
    },
    {
      "cell_type": "markdown",
      "source": [
        "### #Selecting Data from tensor (indexing:)\n",
        "Indexing with `PyTorch` is similar to indexingg in `numpy`"
      ],
      "metadata": {
        "id": "_F-FlBUjElpe"
      }
    },
    {
      "cell_type": "code",
      "source": [
        "# Create a tensor\n",
        "import torch\n",
        "x = torch.arange(1, 26).reshape(1,5,5)\n",
        "x, x.shape"
      ],
      "metadata": {
        "colab": {
          "base_uri": "https://localhost:8080/"
        },
        "id": "RPqH6QI-EZZb",
        "outputId": "3e042748-bb33-42f5-cf67-3ad43bbe2693"
      },
      "execution_count": 59,
      "outputs": [
        {
          "output_type": "execute_result",
          "data": {
            "text/plain": [
              "(tensor([[[ 1,  2,  3,  4,  5],\n",
              "          [ 6,  7,  8,  9, 10],\n",
              "          [11, 12, 13, 14, 15],\n",
              "          [16, 17, 18, 19, 20],\n",
              "          [21, 22, 23, 24, 25]]]),\n",
              " torch.Size([1, 5, 5]))"
            ]
          },
          "metadata": {},
          "execution_count": 59
        }
      ]
    },
    {
      "cell_type": "code",
      "source": [
        "# Indexing on our tensor\n",
        "x[0]"
      ],
      "metadata": {
        "colab": {
          "base_uri": "https://localhost:8080/"
        },
        "id": "alwxTv42j665",
        "outputId": "426113fa-2f76-4342-d78d-1b2481c3e3f3"
      },
      "execution_count": 60,
      "outputs": [
        {
          "output_type": "execute_result",
          "data": {
            "text/plain": [
              "tensor([[ 1,  2,  3,  4,  5],\n",
              "        [ 6,  7,  8,  9, 10],\n",
              "        [11, 12, 13, 14, 15],\n",
              "        [16, 17, 18, 19, 20],\n",
              "        [21, 22, 23, 24, 25]])"
            ]
          },
          "metadata": {},
          "execution_count": 60
        }
      ]
    },
    {
      "cell_type": "code",
      "source": [
        "x[0][1]"
      ],
      "metadata": {
        "colab": {
          "base_uri": "https://localhost:8080/"
        },
        "id": "3YTShfYumRmC",
        "outputId": "c9d75c96-d8e5-4c23-e006-cac41887b7d4"
      },
      "execution_count": 61,
      "outputs": [
        {
          "output_type": "execute_result",
          "data": {
            "text/plain": [
              "tensor([ 6,  7,  8,  9, 10])"
            ]
          },
          "metadata": {},
          "execution_count": 61
        }
      ]
    },
    {
      "cell_type": "code",
      "source": [
        "x[0][1][0]"
      ],
      "metadata": {
        "colab": {
          "base_uri": "https://localhost:8080/"
        },
        "id": "bT2IrlNEmWR2",
        "outputId": "c2e7daa7-8507-496c-9ec6-a1fac7075a90"
      },
      "execution_count": 62,
      "outputs": [
        {
          "output_type": "execute_result",
          "data": {
            "text/plain": [
              "tensor(6)"
            ]
          },
          "metadata": {},
          "execution_count": 62
        }
      ]
    },
    {
      "cell_type": "code",
      "source": [
        "# Index on 'x' to return the last tensor_coloumn\n",
        "x[:,:,-1]\n"
      ],
      "metadata": {
        "colab": {
          "base_uri": "https://localhost:8080/"
        },
        "id": "lgXBZroFmnn1",
        "outputId": "1acb9acf-22c1-4054-e6f0-5702d0e8b8af"
      },
      "execution_count": 63,
      "outputs": [
        {
          "output_type": "execute_result",
          "data": {
            "text/plain": [
              "tensor([[ 5, 10, 15, 20, 25]])"
            ]
          },
          "metadata": {},
          "execution_count": 63
        }
      ]
    },
    {
      "cell_type": "code",
      "source": [
        "# Index on 'x' to return 25\n",
        "x[0][4][4]"
      ],
      "metadata": {
        "colab": {
          "base_uri": "https://localhost:8080/"
        },
        "id": "JrxGkESon-Ua",
        "outputId": "4c30bab6-988c-4c46-b03a-dab2f0b50760"
      },
      "execution_count": 64,
      "outputs": [
        {
          "output_type": "execute_result",
          "data": {
            "text/plain": [
              "tensor(25)"
            ]
          },
          "metadata": {},
          "execution_count": 64
        }
      ]
    },
    {
      "cell_type": "markdown",
      "source": [
        "## `PyTorch Tensors` and `Numpy`\n",
        "- Data in NumPy -> PyTorch tensor for DeepL => `torch.from_numpy(ndarray)`\n",
        "- PyTorch tensort to NumPy => `torch.tensor.numpy()`\n",
        "\n",
        "\n",
        "\n"
      ],
      "metadata": {
        "id": "x7Gdi7w4o-y5"
      }
    },
    {
      "cell_type": "code",
      "source": [
        "from os import DirEntry\n",
        "# NumPy array to tensor\n",
        "import torch\n",
        "import numpy as np\n",
        "array = np.arange(1.0, 8.0)\n",
        "tensor = torch.from_numpy(array) # PyTorch reflets NumPy's dtype as \"float64\" # Change the dtype to 'float32' if issues are encountered\n",
        "tensor = tensor.type(dtype= torch.float32) # If needed !\n",
        "array, tensor"
      ],
      "metadata": {
        "colab": {
          "base_uri": "https://localhost:8080/"
        },
        "id": "GwUlethTofQ2",
        "outputId": "15648332-1367-407e-fd1b-e5fb193b1f69"
      },
      "execution_count": 76,
      "outputs": [
        {
          "output_type": "execute_result",
          "data": {
            "text/plain": [
              "(array([1., 2., 3., 4., 5., 6., 7.]), tensor([1., 2., 3., 4., 5., 6., 7.]))"
            ]
          },
          "metadata": {},
          "execution_count": 76
        }
      ]
    },
    {
      "cell_type": "code",
      "source": [
        "array.dtype"
      ],
      "metadata": {
        "colab": {
          "base_uri": "https://localhost:8080/"
        },
        "id": "i0vJm5VyrRHB",
        "outputId": "dc81bc3d-8402-4a92-e5d5-a497f7e70bda"
      },
      "execution_count": 77,
      "outputs": [
        {
          "output_type": "execute_result",
          "data": {
            "text/plain": [
              "dtype('float64')"
            ]
          },
          "metadata": {},
          "execution_count": 77
        }
      ]
    },
    {
      "cell_type": "code",
      "source": [
        "tensor.dtype"
      ],
      "metadata": {
        "colab": {
          "base_uri": "https://localhost:8080/"
        },
        "id": "CRvNWMNa7j5o",
        "outputId": "25cd8e68-fead-477c-db01-92e96893ccc9"
      },
      "execution_count": 78,
      "outputs": [
        {
          "output_type": "execute_result",
          "data": {
            "text/plain": [
              "torch.float32"
            ]
          },
          "metadata": {},
          "execution_count": 78
        }
      ]
    },
    {
      "cell_type": "code",
      "source": [
        "# Change on the 'array' won't necessarly affect the 'tensor'\n",
        "array = array + 1\n",
        "array, tensor"
      ],
      "metadata": {
        "colab": {
          "base_uri": "https://localhost:8080/"
        },
        "id": "3_ZfUSBR-Xne",
        "outputId": "070265f3-b21e-49e0-b09d-d8bbc717d7bc"
      },
      "execution_count": 79,
      "outputs": [
        {
          "output_type": "execute_result",
          "data": {
            "text/plain": [
              "(array([2., 3., 4., 5., 6., 7., 8.]), tensor([1., 2., 3., 4., 5., 6., 7.]))"
            ]
          },
          "metadata": {},
          "execution_count": 79
        }
      ]
    },
    {
      "cell_type": "code",
      "source": [
        "# Tensor to NumPy array\n",
        "tensor = torch.ones(10)\n",
        "numpy_tensor = tensor.numpy()\n",
        "tensor, numpy_tensor"
      ],
      "metadata": {
        "colab": {
          "base_uri": "https://localhost:8080/"
        },
        "id": "zpaEVK_k_jOH",
        "outputId": "68985e77-92c3-4b63-e038-6e0e2e6d5227"
      },
      "execution_count": 82,
      "outputs": [
        {
          "output_type": "execute_result",
          "data": {
            "text/plain": [
              "(tensor([1., 1., 1., 1., 1., 1., 1., 1., 1., 1.]),\n",
              " array([1., 1., 1., 1., 1., 1., 1., 1., 1., 1.], dtype=float32))"
            ]
          },
          "metadata": {},
          "execution_count": 82
        }
      ]
    },
    {
      "cell_type": "code",
      "source": [
        "# Change on the 'tensor' won't directly affect the 'array' # They don't share memory\n",
        "tensor = tensor + 1\n",
        "\n",
        "tensor, numpy_tensor"
      ],
      "metadata": {
        "colab": {
          "base_uri": "https://localhost:8080/"
        },
        "id": "eXgDuHTlAVLD",
        "outputId": "41944dd7-0bf5-4e70-8ab6-b4fb88838414"
      },
      "execution_count": 84,
      "outputs": [
        {
          "output_type": "execute_result",
          "data": {
            "text/plain": [
              "(tensor([3., 3., 3., 3., 3., 3., 3., 3., 3., 3.]),\n",
              " array([1., 1., 1., 1., 1., 1., 1., 1., 1., 1.], dtype=float32))"
            ]
          },
          "metadata": {},
          "execution_count": 84
        }
      ]
    },
    {
      "cell_type": "markdown",
      "source": [
        "### #PyTorch reproducibility (taking the random out random)\n",
        "\n",
        "In Short how a `neural network ` learns:\n",
        "\n",
        "- `Start with random numbers -> perform tensor operations -> update random numbers and make them better representations of the data -> again and -> again`\n",
        "\n",
        "- To reduce the  randomness in `neural networks` and `PyTorch` comes the concept of **`random seed`**\n",
        "\n",
        "Essentially the 'random seed' `flavour` the randomness (The `seed` sets the specific starting point of the RNG(random number generator), which in turn defines the particular sequence of random numbers you will get)."
      ],
      "metadata": {
        "id": "LHL5yYZRA71T"
      }
    },
    {
      "cell_type": "code",
      "source": [
        "# Create 2 random tensors to experiment the randomness of their values\n",
        "random_tensor_A = torch.rand(3, 4)\n",
        "random_tensor_B = torch.rand(3, 4)\n",
        "print(random_tensor_A)\n",
        "print('---------------------------')\n",
        "print(random_tensor_B)\n",
        "print('---------------------------')\n",
        "print(random_tensor_A == random_tensor_B)"
      ],
      "metadata": {
        "colab": {
          "base_uri": "https://localhost:8080/"
        },
        "id": "Hjyb4jN0B3qb",
        "outputId": "92966d47-051d-46f6-af81-ae7fab0aaddb"
      },
      "execution_count": 90,
      "outputs": [
        {
          "output_type": "stream",
          "name": "stdout",
          "text": [
            "tensor([[0.6452, 0.3667, 0.1260, 0.4295],\n",
            "        [0.7050, 0.1724, 0.3415, 0.6610],\n",
            "        [0.3866, 0.6037, 0.4378, 0.7131]])\n",
            "---------------------------\n",
            "tensor([[0.2199, 0.0346, 0.2652, 0.5623],\n",
            "        [0.6401, 0.9059, 0.3274, 0.6141],\n",
            "        [0.0915, 0.9987, 0.1540, 0.4824]])\n",
            "---------------------------\n",
            "tensor([[False, False, False, False],\n",
            "        [False, False, False, False],\n",
            "        [False, False, False, False]])\n"
          ]
        }
      ]
    },
    {
      "cell_type": "code",
      "source": [
        "# Some random but reproducible tensors\n",
        "\n",
        "RANDOM_SEED = 42\n",
        "torch.manual_seed(RANDOM_SEED) # Work only for the 1st block of code\n",
        "\n",
        "random_tensor_C = torch.rand(3, 4)\n",
        "\n",
        "# torch.manual_seed(RANDOM_SEED) # If the we want the result to be identical\n",
        "random_tensor_D = torch.rand(3, 4)\n",
        "\n",
        "print(random_tensor_C)\n",
        "print('---------------------')\n",
        "print(random_tensor_D)\n",
        "print('---------------------')\n",
        "print(random_tensor_C == random_tensor_D)\n"
      ],
      "metadata": {
        "colab": {
          "base_uri": "https://localhost:8080/"
        },
        "id": "qzL09FKHEnAo",
        "outputId": "322f67d7-f853-4a17-c4d8-e38fa2fa6a8d"
      },
      "execution_count": 95,
      "outputs": [
        {
          "output_type": "stream",
          "name": "stdout",
          "text": [
            "tensor([[0.8823, 0.9150, 0.3829, 0.9593],\n",
            "        [0.3904, 0.6009, 0.2566, 0.7936],\n",
            "        [0.9408, 0.1332, 0.9346, 0.5936]])\n",
            "---------------------\n",
            "tensor([[0.8694, 0.5677, 0.7411, 0.4294],\n",
            "        [0.8854, 0.5739, 0.2666, 0.6274],\n",
            "        [0.2696, 0.4414, 0.2969, 0.8317]])\n",
            "---------------------\n",
            "tensor([[False, False, False, False],\n",
            "        [False, False, False, False],\n",
            "        [False, False, False, False]])\n"
          ]
        }
      ]
    },
    {
      "cell_type": "code",
      "source": [],
      "metadata": {
        "id": "SLqNmkZjMtim"
      },
      "execution_count": null,
      "outputs": []
    }
  ]
}